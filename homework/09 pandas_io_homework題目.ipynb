{
 "cells": [
  {
   "cell_type": "markdown",
   "metadata": {
    "id": "C2qkILqtM8Wg"
   },
   "source": [
    "作業目標:<br>\n",
    "1.讀取各種檔案格式<br>\n",
    "2.輸出各種檔案格式<br>"
   ]
  },
  {
   "cell_type": "markdown",
   "metadata": {
    "id": "t47Sf6ejNLn7"
   },
   "source": [
    "作業重點:<br>\n",
    "1.不同檔案讀取方式皆不同，須了解檔案格式中的邏輯，例如:csv是以逗號分隔<br>\n",
    "2.讀取、輸出檔案的程式碼不同，須注意使用方式"
   ]
  },
  {
   "cell_type": "markdown",
   "metadata": {
    "id": "IabouywFNmI7"
   },
   "source": [
    "題目: <br>\n",
    "讀取資料夾中boston.csv讀取其欄位CHAS、NOX、RM，輸出成.xlsx檔案"
   ]
  },
  {
   "cell_type": "code",
   "execution_count": 1,
   "metadata": {},
   "outputs": [
    {
     "name": "stdout",
     "output_type": "stream",
     "text": [
      "Requirement already satisfied: pandas in c:\\users\\jane\\anaconda3\\lib\\site-packages (1.1.3)\n",
      "Requirement already satisfied: numpy>=1.15.4 in c:\\users\\jane\\anaconda3\\lib\\site-packages (from pandas) (1.19.2)\n",
      "Requirement already satisfied: python-dateutil>=2.7.3 in c:\\users\\jane\\anaconda3\\lib\\site-packages (from pandas) (2.8.1)\n",
      "Requirement already satisfied: pytz>=2017.2 in c:\\users\\jane\\anaconda3\\lib\\site-packages (from pandas) (2020.1)\n",
      "Requirement already satisfied: six>=1.5 in c:\\users\\jane\\anaconda3\\lib\\site-packages (from python-dateutil>=2.7.3->pandas) (1.15.0)\n",
      "Requirement already satisfied: openpyxl in c:\\users\\jane\\anaconda3\\lib\\site-packages (3.0.5)\n",
      "Requirement already satisfied: jdcal in c:\\users\\jane\\anaconda3\\lib\\site-packages (from openpyxl) (1.4.1)\n",
      "Requirement already satisfied: et-xmlfile in c:\\users\\jane\\anaconda3\\lib\\site-packages (from openpyxl) (1.0.1)\n",
      "Requirement already satisfied: XLRD in c:\\users\\jane\\anaconda3\\lib\\site-packages (1.2.0)\n"
     ]
    }
   ],
   "source": [
    "!pip install pandas\n",
    "!pip install openpyxl\n",
    "!pip install XLRD"
   ]
  },
  {
   "cell_type": "code",
   "execution_count": 2,
   "metadata": {
    "id": "Rid6t1NoNrlB"
   },
   "outputs": [],
   "source": [
    "import pandas as pd"
   ]
  },
  {
   "cell_type": "code",
   "execution_count": 5,
   "metadata": {
    "id": "YGXm3I0VMvSG"
   },
   "outputs": [],
   "source": [
    "#讀取資料夾中boston.csv讀取其欄位CHAS、NOX、RM，輸出成.xlsx檔案\n",
    "boston_data = pd.read_csv('boston.csv',usecols=['CHAS','NOX','RM'])\n",
    "boston_data\n",
    "\n",
    "boston_data.to_excel('my_boston.xlsx',sheet_name='boston')"
   ]
  },
  {
   "cell_type": "code",
   "execution_count": null,
   "metadata": {
    "id": "RkTGpcqfMvSH"
   },
   "outputs": [],
   "source": []
  }
 ],
 "metadata": {
  "colab": {
   "collapsed_sections": [],
   "name": "pandas_io_homework題目.ipynb",
   "provenance": []
  },
  "kernelspec": {
   "display_name": "Python 3",
   "language": "python",
   "name": "python3"
  },
  "language_info": {
   "codemirror_mode": {
    "name": "ipython",
    "version": 3
   },
   "file_extension": ".py",
   "mimetype": "text/x-python",
   "name": "python",
   "nbconvert_exporter": "python",
   "pygments_lexer": "ipython3",
   "version": "3.8.5"
  }
 },
 "nbformat": 4,
 "nbformat_minor": 1
}
